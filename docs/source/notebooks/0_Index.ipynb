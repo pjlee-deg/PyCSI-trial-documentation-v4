{
 "cells": [
  {
   "cell_type": "markdown",
   "metadata": {},
   "source": [
    "# PyCSI Tutorial\n",
    "\n",
    "To help you get started with `PyCSI`, we have created a series of Jupyter Notebook tutorials.\n",
    "For information on how to open a Jupyter Notebook see the [README](..\\README.md) file.\n",
    "\n",
    "1. [Introduction and Setup](1_Introduction_and_Setup.ipynb)\n",
    "\n",
    "    Contents:\n",
    "    * Overview of the library\n",
    "    * Installation Instructions\n",
    "    * Importing the library\n",
    "    * Example model\n",
    "\n",
    "2. [Basic Functions](2_Basic_functions.ipynb)\n",
    "\n",
    "    Contents:\n",
    "    * Connecting to your first model\n",
    "    * Model Information\n",
    "    * Modify model state\n",
    "    * File Property\n",
    "    * Analysis Property\n",
    "\n",
    "3. [Table Operations](3_Table_Operations.ipynb)\n",
    "\n",
    "    Contents:\n",
    "    * Retrieve Data from Tables\n",
    "    * Specify Load Patterns, Load Cases and Load Combos\n",
    "    * Edit tables (Coming soon...)\n",
    "\n",
    "\n",
    "4. [Group Methods](4_Group_Methods.ipynb)\n",
    "    \n",
    "    Contents:\n",
    "    * Create groups\n",
    "    * Add or remove objects to groups\n",
    "\n",
    "5. [Example Use](5_Example_use.ipynb)\n",
    "\n",
    "6. [Troubleshooting and FAQs](6_Troubleshooting_and_FAQs.ipynb)\n"
   ]
  },
  {
   "cell_type": "markdown",
   "metadata": {},
   "source": [
    "### Contact\n",
    "\n",
    "For questions or comments please reach out to:\n",
    "\n",
    "* Luis Pancardo: [lpancardo@degenkolb.com](lpancardo@degenkolb.com)<br/>\n",
    "* Daniel Gaspar:  [dgaspar@degenkolb.com](dgaspar@degenkolb.com)<br/>\n"
   ]
  }
 ],
 "metadata": {
  "kernelspec": {
   "display_name": "Python 3 (Spyder)",
   "language": "python3",
   "name": "python3"
  },
  "language_info": {
   "codemirror_mode": {
    "name": "ipython",
    "version": 3
   },
   "file_extension": ".py",
   "mimetype": "text/x-python",
   "name": "python",
   "nbconvert_exporter": "python",
   "pygments_lexer": "ipython3",
   "version": "3.10.13"
  }
 },
 "nbformat": 4,
 "nbformat_minor": 4
}
